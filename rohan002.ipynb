{
 "cells": [
  {
   "cell_type": "code",
   "execution_count": 3,
   "id": "27140eaa-73ee-4c7f-9e77-3e322f02cef3",
   "metadata": {},
   "outputs": [
    {
     "name": "stdout",
     "output_type": "stream",
     "text": [
      "hello, python full stack students!\n"
     ]
    }
   ],
   "source": [
    "print(\"hello, python full stack students!\")"
   ]
  },
  {
   "cell_type": "code",
   "execution_count": 4,
   "id": "b10eef03-bba1-481e-9b73-8d9309a58c3e",
   "metadata": {},
   "outputs": [
    {
     "name": "stdout",
     "output_type": "stream",
     "text": [
      "hello,this is rohan!\n"
     ]
    }
   ],
   "source": [
    "print(\"hello,this is rohan!\")"
   ]
  },
  {
   "cell_type": "code",
   "execution_count": 5,
   "id": "a1215e4b-4406-4b12-a628-51c9672a3ccb",
   "metadata": {},
   "outputs": [
    {
     "name": "stdout",
     "output_type": "stream",
     "text": [
      "hello world\n"
     ]
    }
   ],
   "source": [
    "print(\"hello world\")"
   ]
  },
  {
   "cell_type": "code",
   "execution_count": 8,
   "id": "3897a132-42a9-45e2-bf9f-b0387cffc004",
   "metadata": {},
   "outputs": [
    {
     "name": "stdout",
     "output_type": "stream",
     "text": [
      "avinash college of commerce\n"
     ]
    }
   ],
   "source": [
    "print(\"avinash college of commerce\")"
   ]
  },
  {
   "cell_type": "code",
   "execution_count": 12,
   "id": "51d2f149-bd07-4ab3-b201-215053f16b1a",
   "metadata": {},
   "outputs": [
    {
     "name": "stdout",
     "output_type": "stream",
     "text": [
      "rohan 18 8.2 True\n"
     ]
    }
   ],
   "source": [
    "name=\"rohan\"\n",
    "age=18\n",
    "gpa=8.2\n",
    "is_student=True\n",
    "print(name,age,gpa,is_student)"
   ]
  },
  {
   "cell_type": "code",
   "execution_count": 13,
   "id": "dbeb1a71-87d2-4093-9981-d74ce74b9afe",
   "metadata": {},
   "outputs": [
    {
     "name": "stdout",
     "output_type": "stream",
     "text": [
      "harsh 19 8.0 True\n"
     ]
    }
   ],
   "source": [
    "name=\"harsh\"\n",
    "age=19\n",
    "gpa=8.0\n",
    "is_student=True\n",
    "print(name,age,gpa,is_student)"
   ]
  },
  {
   "cell_type": "code",
   "execution_count": 14,
   "id": "e22c382b-e703-4ce9-a442-a551338a4498",
   "metadata": {},
   "outputs": [
    {
     "name": "stdout",
     "output_type": "stream",
     "text": [
      "raghavender 19 7.0 True\n"
     ]
    }
   ],
   "source": [
    "name=\"raghavender\"\n",
    "age=19\n",
    "gpa=7.0\n",
    "is_student=True\n",
    "print(name,age,gpa,is_student)"
   ]
  },
  {
   "cell_type": "code",
   "execution_count": 16,
   "id": "8aa61619-3576-4763-b8c3-1cc0d781378c",
   "metadata": {},
   "outputs": [
    {
     "name": "stdout",
     "output_type": "stream",
     "text": [
      "<class 'int'> <class 'float'> <class 'str'> <class 'bool'>\n"
     ]
    }
   ],
   "source": [
    "x=10\n",
    "y=3.14\n",
    "z=\"python\"\n",
    "flag=False\n",
    "print(type(x),type(y),type(z),type(flag))"
   ]
  },
  {
   "cell_type": "code",
   "execution_count": 21,
   "id": "0693592b-56c4-4e6e-b056-a549281c7a56",
   "metadata": {},
   "outputs": [
    {
     "name": "stdout",
     "output_type": "stream",
     "text": [
      "Rohan Avinash college of commerce python\n"
     ]
    }
   ],
   "source": [
    "name=\"Rohan\"\n",
    "college=\"Avinash college of commerce\"\n",
    "favorite_programming_language=\"python\"\n",
    "print(name, college, favorite_programming_language)"
   ]
  },
  {
   "cell_type": "code",
   "execution_count": 25,
   "id": "1d0d219d-5ea4-49c6-a188-6a40c789266b",
   "metadata": {},
   "outputs": [
    {
     "name": "stdout",
     "output_type": "stream",
     "text": [
      "17\n"
     ]
    }
   ],
   "source": [
    "year_of_birth=2008\n",
    "current_year=2025\n",
    "age=(current_year-year_of_birth)\n",
    "print(age)"
   ]
  },
  {
   "cell_type": "code",
   "execution_count": 27,
   "id": "0edb375d-f4b5-4174-8142-7119472fdaab",
   "metadata": {},
   "outputs": [
    {
     "name": "stdout",
     "output_type": "stream",
     "text": [
      "little hearts 2025 9.5\n"
     ]
    }
   ],
   "source": [
    "movie_name=\"little hearts\"\n",
    "release_year=2025\n",
    "rating=9.5\n",
    "print(movie_name, release_year, rating)"
   ]
  },
  {
   "cell_type": "code",
   "execution_count": 29,
   "id": "984e78b3-f21e-44fd-bb5c-67f1c23ba5b2",
   "metadata": {},
   "outputs": [
    {
     "name": "stdout",
     "output_type": "stream",
     "text": [
      "addition: 19\n",
      "division: 3.75\n",
      "floor division: 3\n",
      "power: 50625\n"
     ]
    }
   ],
   "source": [
    "a=15\n",
    "b=4\n",
    "print(\"addition:\",a+b)\n",
    "print(\"division:\",a/b)\n",
    "print(\"floor division:\",a//b)\n",
    "print(\"power:\",a**b)"
   ]
  },
  {
   "cell_type": "code",
   "execution_count": 1,
   "id": "aea20644-6a51-443d-a576-f57a58e64ef8",
   "metadata": {},
   "outputs": [
    {
     "name": "stdout",
     "output_type": "stream",
     "text": [
      "False\n",
      "False\n",
      "True\n"
     ]
    }
   ],
   "source": [
    "a=10\n",
    "b=20\n",
    "print(a>b)\n",
    "print(a==b)\n",
    "print((a<b) and (b==20))"
   ]
  },
  {
   "cell_type": "code",
   "execution_count": 10,
   "id": "725fac90-fc98-4ea8-bb50-b8820f9b9e74",
   "metadata": {},
   "outputs": [
    {
     "name": "stdout",
     "output_type": "stream",
     "text": [
      "['apple', 'banana', 'mango', 'orange']\n"
     ]
    }
   ],
   "source": [
    "fruits=[\"apple\",\"banana\",\"mango\"]\n",
    "fruits.append(\"orange\")\n",
    "print(fruits)"
   ]
  },
  {
   "cell_type": "code",
   "execution_count": 11,
   "id": "6defd7cf-8aa3-4190-9467-947e2f6a54a4",
   "metadata": {},
   "outputs": [
    {
     "name": "stdout",
     "output_type": "stream",
     "text": [
      "mango\n"
     ]
    }
   ],
   "source": [
    "print(fruits[2])"
   ]
  },
  {
   "cell_type": "code",
   "execution_count": 12,
   "id": "fa47dd46-29df-4a20-aa72-538daac86666",
   "metadata": {},
   "outputs": [
    {
     "name": "stdout",
     "output_type": "stream",
     "text": [
      "['rohan', 'purandheeshwari', 'nigha', 'bhuvan', 'pooja']\n"
     ]
    }
   ],
   "source": [
    "name=[\"rohan\",\"purandheeshwari\",\"nigha\",\"bhuvan\"]\n",
    "name.append(\"pooja\")\n",
    "print(name)"
   ]
  },
  {
   "cell_type": "code",
   "execution_count": 13,
   "id": "a516dec7-f173-42ac-aa71-f8e16fc79211",
   "metadata": {},
   "outputs": [
    {
     "name": "stdout",
     "output_type": "stream",
     "text": [
      "purandheeshwari\n"
     ]
    }
   ],
   "source": [
    "print(name[1])"
   ]
  },
  {
   "cell_type": "code",
   "execution_count": 14,
   "id": "3f30c809-c74a-47ed-93cb-68aef4e26340",
   "metadata": {},
   "outputs": [
    {
     "name": "stdout",
     "output_type": "stream",
     "text": [
      "['apple', 'banana', 'mango', 'orange']\n"
     ]
    }
   ],
   "source": [
    "fruits=[\"apple\",\"banana\",\"mango\"]\n",
    "fruits.append(\"orange\")\n",
    "print(fruits)"
   ]
  },
  {
   "cell_type": "code",
   "execution_count": 15,
   "id": "dd625021-d00b-4442-b4f8-b481e08f5da2",
   "metadata": {},
   "outputs": [],
   "source": [
    "fruits.remove(\"banana\")"
   ]
  },
  {
   "cell_type": "code",
   "execution_count": 19,
   "id": "1bc46287-33fd-49e9-b4fc-6fb8a03b1ea7",
   "metadata": {},
   "outputs": [],
   "source": [
    "fruits.sort()"
   ]
  },
  {
   "cell_type": "code",
   "execution_count": 22,
   "id": "ef9fe4fe-4ae9-49dc-8d74-f17195a8bb76",
   "metadata": {},
   "outputs": [
    {
     "name": "stdout",
     "output_type": "stream",
     "text": [
      "red\n"
     ]
    }
   ],
   "source": [
    "colour=(\"red\",\"green\",\"blue\",\"black\")\n",
    "print(colour[0])"
   ]
  },
  {
   "cell_type": "code",
   "execution_count": 23,
   "id": "d2c763bb-91d4-4dcd-a61a-6a31e5f8ead8",
   "metadata": {},
   "outputs": [
    {
     "ename": "TypeError",
     "evalue": "'tuple' object does not support item assignment",
     "output_type": "error",
     "traceback": [
      "\u001b[1;31m---------------------------------------------------------------------------\u001b[0m",
      "\u001b[1;31mTypeError\u001b[0m                                 Traceback (most recent call last)",
      "Cell \u001b[1;32mIn[23], line 1\u001b[0m\n\u001b[1;32m----> 1\u001b[0m colour[\u001b[38;5;241m1\u001b[39m]\u001b[38;5;241m=\u001b[39m\u001b[38;5;124m\"\u001b[39m\u001b[38;5;124myellow\u001b[39m\u001b[38;5;124m\"\u001b[39m\n",
      "\u001b[1;31mTypeError\u001b[0m: 'tuple' object does not support item assignment"
     ]
    }
   ],
   "source": [
    "colour[1]=\"yellow\""
   ]
  },
  {
   "cell_type": "code",
   "execution_count": 24,
   "id": "d11e0b73-1841-475f-8190-62cfc6ca8b5b",
   "metadata": {},
   "outputs": [
    {
     "name": "stdout",
     "output_type": "stream",
     "text": [
      "{1, 2, 3, 4, 5}\n"
     ]
    }
   ],
   "source": [
    "numbers={1,2,3,4,5}\n",
    "numbers.add(5)\n",
    "print(numbers)"
   ]
  },
  {
   "cell_type": "code",
   "execution_count": 33,
   "id": "0ab201c6-4849-492a-9d35-d3650ed2aefd",
   "metadata": {},
   "outputs": [
    {
     "name": "stdout",
     "output_type": "stream",
     "text": [
      "rohan\n"
     ]
    }
   ],
   "source": [
    "student={\"name\":\"rohan\",\"age\":18,\"course\":\"python full stack\",}\n",
    "print(student[\"name\"])\n",
    "student[\"college\"]=\"avinash college of commerce\""
   ]
  },
  {
   "cell_type": "code",
   "execution_count": 26,
   "id": "e8bdaa65-9a41-40fa-9a47-e92f7dd4c559",
   "metadata": {},
   "outputs": [
    {
     "name": "stdout",
     "output_type": "stream",
     "text": [
      "{'name': 'rohan', 'age': 23, 'course': 'python full stack'}\n"
     ]
    }
   ],
   "source": [
    "student[\"age\"]=23\n",
    "print(student)"
   ]
  },
  {
   "cell_type": "code",
   "execution_count": 36,
   "id": "ff011c60-9da5-43d4-9dba-f858ef1f11fd",
   "metadata": {},
   "outputs": [
    {
     "name": "stdout",
     "output_type": "stream",
     "text": [
      "dict_keys(['name', 'age', 'course', 'college'])\n"
     ]
    }
   ],
   "source": [
    "print(student.keys())"
   ]
  },
  {
   "cell_type": "code",
   "execution_count": 37,
   "id": "b2bd423d-985b-4e52-8d71-388d73b8cf81",
   "metadata": {},
   "outputs": [
    {
     "name": "stdout",
     "output_type": "stream",
     "text": [
      "dict_values(['rohan', 18, 'python full stack', 'avinash college of commerce'])\n"
     ]
    }
   ],
   "source": [
    "print(student.values())"
   ]
  },
  {
   "cell_type": "code",
   "execution_count": 41,
   "id": "54a700d7-3778-4153-bc34-4034133c42fb",
   "metadata": {},
   "outputs": [
    {
     "name": "stdout",
     "output_type": "stream",
     "text": [
      "grade:B\n"
     ]
    }
   ],
   "source": [
    "marks=75\n",
    "if marks>=90:\n",
    "    print(\"grade:A\")\n",
    "elif marks >=75:\n",
    "     print(\"grade:B\")\n",
    "elif marks >=50:\n",
    "     print(\"grade:C\")\n",
    "else:\n",
    "      print(\"grade:fail\")"
   ]
  },
  {
   "cell_type": "code",
   "execution_count": 48,
   "id": "f16abbb3-e6a2-45f0-a1e6-d40298f20abf",
   "metadata": {},
   "outputs": [
    {
     "name": "stdout",
     "output_type": "stream",
     "text": [
      "number: 1\n",
      "number: 2\n",
      "number: 3\n",
      "number: 4\n",
      "number: 5\n"
     ]
    }
   ],
   "source": [
    "for i in range(1, 6):\n",
    "    print(\"number:\",i)\n"
   ]
  },
  {
   "cell_type": "code",
   "execution_count": 49,
   "id": "8331b883-0b9d-4baa-9773-ac7b21c9d1b3",
   "metadata": {},
   "outputs": [
    {
     "name": "stdout",
     "output_type": "stream",
     "text": [
      "count: 1\n",
      "count: 2\n",
      "count: 3\n",
      "count: 4\n",
      "count: 5\n"
     ]
    }
   ],
   "source": [
    "count=1\n",
    "while count <=5:\n",
    "    print(\"count:\",count)\n",
    "    count += 1"
   ]
  },
  {
   "cell_type": "code",
   "execution_count": null,
   "id": "4b96350f-346c-4939-be3d-b67cc5475f7a",
   "metadata": {},
   "outputs": [],
   "source": []
  }
 ],
 "metadata": {
  "kernelspec": {
   "display_name": "Python [conda env:base] *",
   "language": "python",
   "name": "conda-base-py"
  },
  "language_info": {
   "codemirror_mode": {
    "name": "ipython",
    "version": 3
   },
   "file_extension": ".py",
   "mimetype": "text/x-python",
   "name": "python",
   "nbconvert_exporter": "python",
   "pygments_lexer": "ipython3",
   "version": "3.13.5"
  }
 },
 "nbformat": 4,
 "nbformat_minor": 5
}
