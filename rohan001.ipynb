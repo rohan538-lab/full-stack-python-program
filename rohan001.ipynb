{
 "cells": [
  {
   "cell_type": "code",
   "execution_count": 3,
   "id": "27140eaa-73ee-4c7f-9e77-3e322f02cef3",
   "metadata": {},
   "outputs": [
    {
     "name": "stdout",
     "output_type": "stream",
     "text": [
      "hello, python full stack students!\n"
     ]
    }
   ],
   "source": [
    "print(\"hello, python full stack students!\")"
   ]
  },
  {
   "cell_type": "code",
   "execution_count": 4,
   "id": "b10eef03-bba1-481e-9b73-8d9309a58c3e",
   "metadata": {},
   "outputs": [
    {
     "name": "stdout",
     "output_type": "stream",
     "text": [
      "hello,this is rohan!\n"
     ]
    }
   ],
   "source": [
    "print(\"hello,this is rohan!\")"
   ]
  },
  {
   "cell_type": "code",
   "execution_count": 5,
   "id": "a1215e4b-4406-4b12-a628-51c9672a3ccb",
   "metadata": {},
   "outputs": [
    {
     "name": "stdout",
     "output_type": "stream",
     "text": [
      "hello world\n"
     ]
    }
   ],
   "source": [
    "print(\"hello world\")"
   ]
  },
  {
   "cell_type": "code",
   "execution_count": 8,
   "id": "3897a132-42a9-45e2-bf9f-b0387cffc004",
   "metadata": {},
   "outputs": [
    {
     "name": "stdout",
     "output_type": "stream",
     "text": [
      "avinash college of commerce\n"
     ]
    }
   ],
   "source": [
    "print(\"avinash college of commerce\")"
   ]
  },
  {
   "cell_type": "code",
   "execution_count": 12,
   "id": "51d2f149-bd07-4ab3-b201-215053f16b1a",
   "metadata": {},
   "outputs": [
    {
     "name": "stdout",
     "output_type": "stream",
     "text": [
      "rohan 18 8.2 True\n"
     ]
    }
   ],
   "source": [
    "name=\"rohan\"\n",
    "age=18\n",
    "gpa=8.2\n",
    "is_student=True\n",
    "print(name,age,gpa,is_student)"
   ]
  },
  {
   "cell_type": "code",
   "execution_count": 13,
   "id": "dbeb1a71-87d2-4093-9981-d74ce74b9afe",
   "metadata": {},
   "outputs": [
    {
     "name": "stdout",
     "output_type": "stream",
     "text": [
      "harsh 19 8.0 True\n"
     ]
    }
   ],
   "source": [
    "name=\"harsh\"\n",
    "age=19\n",
    "gpa=8.0\n",
    "is_student=True\n",
    "print(name,age,gpa,is_student)"
   ]
  },
  {
   "cell_type": "code",
   "execution_count": 14,
   "id": "e22c382b-e703-4ce9-a442-a551338a4498",
   "metadata": {},
   "outputs": [
    {
     "name": "stdout",
     "output_type": "stream",
     "text": [
      "raghavender 19 7.0 True\n"
     ]
    }
   ],
   "source": [
    "name=\"raghavender\"\n",
    "age=19\n",
    "gpa=7.0\n",
    "is_student=True\n",
    "print(name,age,gpa,is_student)"
   ]
  },
  {
   "cell_type": "code",
   "execution_count": 16,
   "id": "8aa61619-3576-4763-b8c3-1cc0d781378c",
   "metadata": {},
   "outputs": [
    {
     "name": "stdout",
     "output_type": "stream",
     "text": [
      "<class 'int'> <class 'float'> <class 'str'> <class 'bool'>\n"
     ]
    }
   ],
   "source": [
    "x=10\n",
    "y=3.14\n",
    "z=\"python\"\n",
    "flag=False\n",
    "print(type(x),type(y),type(z),type(flag))"
   ]
  },
  {
   "cell_type": "code",
   "execution_count": 21,
   "id": "0693592b-56c4-4e6e-b056-a549281c7a56",
   "metadata": {},
   "outputs": [
    {
     "name": "stdout",
     "output_type": "stream",
     "text": [
      "Rohan Avinash college of commerce python\n"
     ]
    }
   ],
   "source": [
    "name=\"Rohan\"\n",
    "college=\"Avinash college of commerce\"\n",
    "favorite_programming_language=\"python\"\n",
    "print(name, college, favorite_programming_language)"
   ]
  },
  {
   "cell_type": "code",
   "execution_count": 25,
   "id": "1d0d219d-5ea4-49c6-a188-6a40c789266b",
   "metadata": {},
   "outputs": [
    {
     "name": "stdout",
     "output_type": "stream",
     "text": [
      "17\n"
     ]
    }
   ],
   "source": [
    "year_of_birth=2008\n",
    "current_year=2025\n",
    "age=(current_year-year_of_birth)\n",
    "print(age)"
   ]
  },
  {
   "cell_type": "code",
   "execution_count": 27,
   "id": "0edb375d-f4b5-4174-8142-7119472fdaab",
   "metadata": {},
   "outputs": [
    {
     "name": "stdout",
     "output_type": "stream",
     "text": [
      "little hearts 2025 9.5\n"
     ]
    }
   ],
   "source": [
    "movie_name=\"little hearts\"\n",
    "release_year=2025\n",
    "rating=9.5\n",
    "print(movie_name, release_year, rating)"
   ]
  },
  {
   "cell_type": "code",
   "execution_count": 29,
   "id": "984e78b3-f21e-44fd-bb5c-67f1c23ba5b2",
   "metadata": {},
   "outputs": [
    {
     "name": "stdout",
     "output_type": "stream",
     "text": [
      "addition: 19\n",
      "division: 3.75\n",
      "floor division: 3\n",
      "power: 50625\n"
     ]
    }
   ],
   "source": [
    "a=15\n",
    "b=4\n",
    "print(\"addition:\",a+b)\n",
    "print(\"division:\",a/b)\n",
    "print(\"floor division:\",a//b)\n",
    "print(\"power:\",a**b)"
   ]
  },
  {
   "cell_type": "code",
   "execution_count": 31,
   "id": "aea20644-6a51-443d-a576-f57a58e64ef8",
   "metadata": {},
   "outputs": [
    {
     "name": "stdout",
     "output_type": "stream",
     "text": [
      "False\n",
      "False\n",
      "True\n"
     ]
    }
   ],
   "source": [
    "a=10\n",
    "b=20\n",
    "print(a>b)\n",
    "print(a==b)\n",
    "print((a<b) and (b==20))"
   ]
  },
  {
   "cell_type": "code",
   "execution_count": null,
   "id": "8def0fa8-1df7-465f-a9d8-2160373faf67",
   "metadata": {},
   "outputs": [],
   "source": []
  }
 ],
 "metadata": {
  "kernelspec": {
   "display_name": "Python [conda env:base] *",
   "language": "python",
   "name": "conda-base-py"
  },
  "language_info": {
   "codemirror_mode": {
    "name": "ipython",
    "version": 3
   },
   "file_extension": ".py",
   "mimetype": "text/x-python",
   "name": "python",
   "nbconvert_exporter": "python",
   "pygments_lexer": "ipython3",
   "version": "3.13.5"
  }
 },
 "nbformat": 4,
 "nbformat_minor": 5
}
